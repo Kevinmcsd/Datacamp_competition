{
 "cells": [
  {
   "cell_type": "markdown",
   "metadata": {},
   "source": [
    "![Internet Access](img/Title.jpg)"
   ]
  },
  {
   "cell_type": "markdown",
   "metadata": {},
   "source": [
    "<h1>0-Introduction</h1>"
   ]
  },
  {
   "cell_type": "markdown",
   "metadata": {},
   "source": [
    "There is an interesting and perhaps very tasty principle for economists called the Big Mac Index [<sup>1</sup>](#fn1) . This principle is named the popular McDonald's sandwich[<sup>2</sup>](#fn2)  that can be found all over the world. According to this principle, the comparison of price of a Big Mac in any country with strong economic countries can be proposed as a way to quickly and easily check the economic situation of the country and also the monetary base (or M0)[<sup>3</sup>](#fn3)  there instead of using a complex economic criterion.\n",
    "For example, the comparison of the price ratio of Big Mac in that country and in the United States shows whether it is reasonable the exchange rate of the currency of the mentioned country with the dollar rate has been subjected to economic manipulation, or it is a measure to check the economic well-being of that country by comparing Big Mac price with minimum wage and matching it with prosperous countries. Is the exchange rate of the mentioned country's currency with the dollar a reasonable rate, or is it subject to economic manipulation[<sup>4</sup>](#fn4) ? Or a measure is obtained to check the economic welfare of that country by comparing the price of a Big Mac with the minimum wage and comparing it with prosperous countries. <br><br>\n",
    "\n",
    "\n",
    "\n",
    "<hr style=\"width:40%\">\n",
    " [<sup>1</sup>]<span id=\"fn1\"> The Big Mac index was created by The Economist to measure purchasing power parity between nations, using the price of a Big Mac as the benchmark.</span><br><br>\n",
    "  [<sup>2</sup>] <span id=\"fn2\">The Big Mac is a beef sandwich sold by the international fast food restaurant chain McDonald's.</span><br><br>\n",
    " [<sup>3</sup>] <span id=\"fn3\"> The monetary base (or M0) is the total amount of a currency that is either in general circulation in the hands of the public or in the form of commercial bank deposits held in the central bank's reserves.</span><br><br>\n",
    " [<sup>4</sup>] <span id=\"fn4\"> Economic manipulation includes: illicit manipulation of commodity prices; speculation; hoarding; violations of exchange regulations; breach of governmentally fixed prices, of profit margins or of price freezes; sabotage or impairing the smooth functioning of the national economy; charging excessive trade or ...</span>\n"
   ]
  },
  {
   "cell_type": "markdown",
   "metadata": {},
   "source": [
    "![Big Mac Index](img/Bigmac.jpg)"
   ]
  },
  {
   "cell_type": "markdown",
   "metadata": {},
   "source": [
    " Access to the Internet is considered an important criterion to achieve a quick result about the welfare Index of a country, so it is of great importance to examine this issue and analyze its data.\n",
    "\n",
    "There are 6 questions in this contest, and these questions must be answered using the data provided to us. First, let's take a look at the data:\n"
   ]
  },
  {
   "cell_type": "markdown",
   "metadata": {},
   "source": [
    "<h1>1-The Data & EDA</h1>"
   ]
  },
  {
   "cell_type": "markdown",
   "metadata": {},
   "source": [
    "⬇ Import Libraries "
   ]
  },
  {
   "cell_type": "code",
   "execution_count": 60,
   "metadata": {},
   "outputs": [],
   "source": [
    "import pandas as pd\n",
    "import numpy as np\n",
    "import matplotlib.pyplot as plt\n",
    "from scipy.stats import pearsonr\n",
    "import seaborn as sns\n",
    "from IPython.display import display"
   ]
  },
  {
   "cell_type": "code",
   "execution_count": 2,
   "metadata": {},
   "outputs": [],
   "source": [
    "# Some Classes\n",
    "class clr:\n",
    "    S = '\\033[1m' + '\\033[90m'\n",
    "    E = '\\033[0m'"
   ]
  },
  {
   "cell_type": "code",
   "execution_count": 3,
   "metadata": {},
   "outputs": [],
   "source": [
    "broadband_df=pd.read_csv(\"data/broadband.csv\")\n",
    "people_df=pd.read_csv(\"data/people.csv\")\n",
    "internet_df=pd.read_csv(\"data/internet.csv\")\n",
    "region_df=pd.read_csv(\"data/CountriesRegion.csv\")"
   ]
  },
  {
   "cell_type": "markdown",
   "metadata": {},
   "source": [
    "<h2>1-1-Internet</h2>"
   ]
  },
  {
   "cell_type": "markdown",
   "metadata": {},
   "source": [
    "![Internet](img/Internet.jpg)"
   ]
  },
  {
   "cell_type": "markdown",
   "metadata": {},
   "source": [
    "- \"Entity\" - The name of the country, region, or group.\n",
    "- \"Code\" - Unique id for the country (null for other entities).\n",
    "- \"Year\" - Year from 1990 to 2019.\n",
    "- \"Internet_usage\" -  The share of the entity's population who have used the internet in the last three months."
   ]
  },
  {
   "cell_type": "code",
   "execution_count": 4,
   "metadata": {},
   "outputs": [
    {
     "data": {
      "text/html": [
       "<div>\n",
       "<style scoped>\n",
       "    .dataframe tbody tr th:only-of-type {\n",
       "        vertical-align: middle;\n",
       "    }\n",
       "\n",
       "    .dataframe tbody tr th {\n",
       "        vertical-align: top;\n",
       "    }\n",
       "\n",
       "    .dataframe thead th {\n",
       "        text-align: right;\n",
       "    }\n",
       "</style>\n",
       "<table border=\"1\" class=\"dataframe\">\n",
       "  <thead>\n",
       "    <tr style=\"text-align: right;\">\n",
       "      <th></th>\n",
       "      <th>Entity</th>\n",
       "      <th>Code</th>\n",
       "      <th>Year</th>\n",
       "      <th>Internet_Usage</th>\n",
       "    </tr>\n",
       "  </thead>\n",
       "  <tbody>\n",
       "    <tr>\n",
       "      <th>1652</th>\n",
       "      <td>Early-demographic dividend</td>\n",
       "      <td>NaN</td>\n",
       "      <td>2005</td>\n",
       "      <td>4.873935</td>\n",
       "    </tr>\n",
       "    <tr>\n",
       "      <th>6077</th>\n",
       "      <td>Spain</td>\n",
       "      <td>ESP</td>\n",
       "      <td>2014</td>\n",
       "      <td>76.190000</td>\n",
       "    </tr>\n",
       "    <tr>\n",
       "      <th>1162</th>\n",
       "      <td>Chad</td>\n",
       "      <td>TCD</td>\n",
       "      <td>2006</td>\n",
       "      <td>0.581046</td>\n",
       "    </tr>\n",
       "    <tr>\n",
       "      <th>2584</th>\n",
       "      <td>Guatemala</td>\n",
       "      <td>GTM</td>\n",
       "      <td>2002</td>\n",
       "      <td>3.391746</td>\n",
       "    </tr>\n",
       "    <tr>\n",
       "      <th>6478</th>\n",
       "      <td>Tonga</td>\n",
       "      <td>TON</td>\n",
       "      <td>2003</td>\n",
       "      <td>2.985817</td>\n",
       "    </tr>\n",
       "    <tr>\n",
       "      <th>1256</th>\n",
       "      <td>Colombia</td>\n",
       "      <td>COL</td>\n",
       "      <td>2016</td>\n",
       "      <td>58.136494</td>\n",
       "    </tr>\n",
       "    <tr>\n",
       "      <th>6663</th>\n",
       "      <td>Ukraine</td>\n",
       "      <td>UKR</td>\n",
       "      <td>1995</td>\n",
       "      <td>0.043084</td>\n",
       "    </tr>\n",
       "    <tr>\n",
       "      <th>2187</th>\n",
       "      <td>Finland</td>\n",
       "      <td>FIN</td>\n",
       "      <td>2000</td>\n",
       "      <td>37.248462</td>\n",
       "    </tr>\n",
       "    <tr>\n",
       "      <th>1007</th>\n",
       "      <td>Canada</td>\n",
       "      <td>CAN</td>\n",
       "      <td>2010</td>\n",
       "      <td>80.300000</td>\n",
       "    </tr>\n",
       "    <tr>\n",
       "      <th>4629</th>\n",
       "      <td>Netherlands</td>\n",
       "      <td>NLD</td>\n",
       "      <td>2011</td>\n",
       "      <td>91.419996</td>\n",
       "    </tr>\n",
       "  </tbody>\n",
       "</table>\n",
       "</div>"
      ],
      "text/plain": [
       "                          Entity Code  Year  Internet_Usage\n",
       "1652  Early-demographic dividend  NaN  2005        4.873935\n",
       "6077                       Spain  ESP  2014       76.190000\n",
       "1162                        Chad  TCD  2006        0.581046\n",
       "2584                   Guatemala  GTM  2002        3.391746\n",
       "6478                       Tonga  TON  2003        2.985817\n",
       "1256                    Colombia  COL  2016       58.136494\n",
       "6663                     Ukraine  UKR  1995        0.043084\n",
       "2187                     Finland  FIN  2000       37.248462\n",
       "1007                      Canada  CAN  2010       80.300000\n",
       "4629                 Netherlands  NLD  2011       91.419996"
      ]
     },
     "execution_count": 4,
     "metadata": {},
     "output_type": "execute_result"
    }
   ],
   "source": [
    "internet_df.sample(10)"
   ]
  },
  {
   "cell_type": "code",
   "execution_count": 5,
   "metadata": {},
   "outputs": [
    {
     "name": "stdout",
     "output_type": "stream",
     "text": [
      "\u001b[1m\u001b[90mThe dataset has a size of:\u001b[0m (7089, 4) \n",
      "\n",
      "\u001b[1m\u001b[90mMissing values:\u001b[0m\n"
     ]
    },
    {
     "data": {
      "text/plain": [
       "Entity               0\n",
       "Code              1328\n",
       "Year                 0\n",
       "Internet_Usage       0\n",
       "dtype: int64"
      ]
     },
     "execution_count": 5,
     "metadata": {},
     "output_type": "execute_result"
    }
   ],
   "source": [
    "print(clr.S+\"The dataset has a size of:\"+clr.E, internet_df.shape, \"\\n\")\n",
    "\n",
    "print(clr.S+\"Missing values:\"+clr.E)\n",
    "internet_df.isna().sum()"
   ]
  },
  {
   "cell_type": "markdown",
   "metadata": {},
   "source": [
    "<div class=\"alert simple-alert\">\n",
    "  <p>💡<b>Note</b>: We Have Missing value on Code and Base on DataSet Description it's because of null value for group and Region 🎉</p\n",
    "</div>"
   ]
  },
  {
   "cell_type": "code",
   "execution_count": 31,
   "metadata": {},
   "outputs": [
    {
     "data": {
      "text/plain": [
       "count    7089.000000\n",
       "mean       20.969479\n",
       "std        27.488015\n",
       "min         0.000000\n",
       "25%         0.158150\n",
       "50%         6.000000\n",
       "75%        36.000000\n",
       "max        99.701504\n",
       "Name: Internet_Usage, dtype: float64"
      ]
     },
     "execution_count": 31,
     "metadata": {},
     "output_type": "execute_result"
    }
   ],
   "source": [
    "internet_df[\"Internet_Usage\"].describe()"
   ]
  },
  {
   "cell_type": "markdown",
   "metadata": {},
   "source": [
    "<div class=\"alert simple-alert\">\n",
    "  <p>💡<b>Note</b>: Based On Statistics of Data, \"Internet_Usage\" seems in Percentage  🎉</p\n",
    "</div>"
   ]
  },
  {
   "cell_type": "markdown",
   "metadata": {},
   "source": [
    "<h2>1-2-People</h2>"
   ]
  },
  {
   "cell_type": "markdown",
   "metadata": {},
   "source": [
    "![People](img/People.jpg)"
   ]
  },
  {
   "cell_type": "markdown",
   "metadata": {},
   "source": [
    "- \"Entity\" - The name of the country, region, or group.\n",
    "- \"Code\" - Unique id for the country (null for other entities).\n",
    "- \"Year\" - Year from 1990 to 2020.\n",
    "- \"Users\" - The number of people who have used the internet in the last three months for that country, region, or group."
   ]
  },
  {
   "cell_type": "code",
   "execution_count": 6,
   "metadata": {},
   "outputs": [
    {
     "data": {
      "text/html": [
       "<div>\n",
       "<style scoped>\n",
       "    .dataframe tbody tr th:only-of-type {\n",
       "        vertical-align: middle;\n",
       "    }\n",
       "\n",
       "    .dataframe tbody tr th {\n",
       "        vertical-align: top;\n",
       "    }\n",
       "\n",
       "    .dataframe thead th {\n",
       "        text-align: right;\n",
       "    }\n",
       "</style>\n",
       "<table border=\"1\" class=\"dataframe\">\n",
       "  <thead>\n",
       "    <tr style=\"text-align: right;\">\n",
       "      <th></th>\n",
       "      <th>Entity</th>\n",
       "      <th>Code</th>\n",
       "      <th>Year</th>\n",
       "      <th>Users</th>\n",
       "    </tr>\n",
       "  </thead>\n",
       "  <tbody>\n",
       "    <tr>\n",
       "      <th>4872</th>\n",
       "      <td>Saint Lucia</td>\n",
       "      <td>LCA</td>\n",
       "      <td>2012</td>\n",
       "      <td>60287</td>\n",
       "    </tr>\n",
       "    <tr>\n",
       "      <th>5629</th>\n",
       "      <td>Tanzania</td>\n",
       "      <td>TZA</td>\n",
       "      <td>2015</td>\n",
       "      <td>5254282</td>\n",
       "    </tr>\n",
       "    <tr>\n",
       "      <th>1735</th>\n",
       "      <td>El Salvador</td>\n",
       "      <td>SLV</td>\n",
       "      <td>2007</td>\n",
       "      <td>369296</td>\n",
       "    </tr>\n",
       "    <tr>\n",
       "      <th>4352</th>\n",
       "      <td>Norway</td>\n",
       "      <td>NOR</td>\n",
       "      <td>2016</td>\n",
       "      <td>5095109</td>\n",
       "    </tr>\n",
       "    <tr>\n",
       "      <th>2444</th>\n",
       "      <td>Guinea-Bissau</td>\n",
       "      <td>GNB</td>\n",
       "      <td>2009</td>\n",
       "      <td>35176</td>\n",
       "    </tr>\n",
       "    <tr>\n",
       "      <th>6254</th>\n",
       "      <td>Vietnam</td>\n",
       "      <td>VNM</td>\n",
       "      <td>2017</td>\n",
       "      <td>54670814</td>\n",
       "    </tr>\n",
       "    <tr>\n",
       "      <th>2774</th>\n",
       "      <td>Iraq</td>\n",
       "      <td>IRQ</td>\n",
       "      <td>2007</td>\n",
       "      <td>266546</td>\n",
       "    </tr>\n",
       "    <tr>\n",
       "      <th>669</th>\n",
       "      <td>Bermuda</td>\n",
       "      <td>BMU</td>\n",
       "      <td>2004</td>\n",
       "      <td>38277</td>\n",
       "    </tr>\n",
       "    <tr>\n",
       "      <th>1686</th>\n",
       "      <td>Ecuador</td>\n",
       "      <td>ECU</td>\n",
       "      <td>2020</td>\n",
       "      <td>11362233</td>\n",
       "    </tr>\n",
       "    <tr>\n",
       "      <th>1526</th>\n",
       "      <td>Democratic Republic of Congo</td>\n",
       "      <td>COD</td>\n",
       "      <td>2011</td>\n",
       "      <td>823851</td>\n",
       "    </tr>\n",
       "  </tbody>\n",
       "</table>\n",
       "</div>"
      ],
      "text/plain": [
       "                            Entity Code  Year     Users\n",
       "4872                   Saint Lucia  LCA  2012     60287\n",
       "5629                      Tanzania  TZA  2015   5254282\n",
       "1735                   El Salvador  SLV  2007    369296\n",
       "4352                        Norway  NOR  2016   5095109\n",
       "2444                 Guinea-Bissau  GNB  2009     35176\n",
       "6254                       Vietnam  VNM  2017  54670814\n",
       "2774                          Iraq  IRQ  2007    266546\n",
       "669                        Bermuda  BMU  2004     38277\n",
       "1686                       Ecuador  ECU  2020  11362233\n",
       "1526  Democratic Republic of Congo  COD  2011    823851"
      ]
     },
     "execution_count": 6,
     "metadata": {},
     "output_type": "execute_result"
    }
   ],
   "source": [
    "people_df.sample(10)"
   ]
  },
  {
   "cell_type": "code",
   "execution_count": 7,
   "metadata": {},
   "outputs": [
    {
     "name": "stdout",
     "output_type": "stream",
     "text": [
      "\u001b[1m\u001b[90mThe dataset has a size of:\u001b[0m (6379, 4) \n",
      "\n",
      "\u001b[1m\u001b[90mMissing values:\u001b[0m\n"
     ]
    },
    {
     "data": {
      "text/plain": [
       "Entity      0\n",
       "Code      307\n",
       "Year        0\n",
       "Users       0\n",
       "dtype: int64"
      ]
     },
     "execution_count": 7,
     "metadata": {},
     "output_type": "execute_result"
    }
   ],
   "source": [
    "print(clr.S+\"The dataset has a size of:\"+clr.E, people_df.shape, \"\\n\")\n",
    "\n",
    "print(clr.S+\"Missing values:\"+clr.E)\n",
    "people_df.isna().sum()"
   ]
  },
  {
   "cell_type": "markdown",
   "metadata": {},
   "source": [
    "<div class=\"alert simple-alert\">\n",
    "  <p>💡<b>Note</b>: We Have Missing value on Code and Base on DataSet Description it's because of null value for group and Region 🎉</p\n",
    "</div>"
   ]
  },
  {
   "cell_type": "markdown",
   "metadata": {},
   "source": [
    "<h2>1-3-Broadband</h2>"
   ]
  },
  {
   "cell_type": "markdown",
   "metadata": {},
   "source": [
    "![Broadband](img/Cable1.jpg)"
   ]
  },
  {
   "cell_type": "markdown",
   "metadata": {},
   "source": [
    "- \"Entity\" - The name of the country, region, or group.\n",
    "- \"Code\" - Unique id for the country (null for other entities).\n",
    "- \"Year\" - Year from 1998 to 2020.\n",
    "- \"Broadband_Subscriptions\" - The number of fixed subscriptions to high-speed internet at downstream speeds >= 256 kbit/s for that country, region, or group."
   ]
  },
  {
   "cell_type": "code",
   "execution_count": 8,
   "metadata": {},
   "outputs": [
    {
     "data": {
      "text/html": [
       "<div>\n",
       "<style scoped>\n",
       "    .dataframe tbody tr th:only-of-type {\n",
       "        vertical-align: middle;\n",
       "    }\n",
       "\n",
       "    .dataframe tbody tr th {\n",
       "        vertical-align: top;\n",
       "    }\n",
       "\n",
       "    .dataframe thead th {\n",
       "        text-align: right;\n",
       "    }\n",
       "</style>\n",
       "<table border=\"1\" class=\"dataframe\">\n",
       "  <thead>\n",
       "    <tr style=\"text-align: right;\">\n",
       "      <th></th>\n",
       "      <th>Entity</th>\n",
       "      <th>Code</th>\n",
       "      <th>Year</th>\n",
       "      <th>Broadband_Subscriptions</th>\n",
       "    </tr>\n",
       "  </thead>\n",
       "  <tbody>\n",
       "    <tr>\n",
       "      <th>296</th>\n",
       "      <td>Belarus</td>\n",
       "      <td>BLR</td>\n",
       "      <td>2017</td>\n",
       "      <td>33.473106</td>\n",
       "    </tr>\n",
       "    <tr>\n",
       "      <th>355</th>\n",
       "      <td>Benin</td>\n",
       "      <td>BEN</td>\n",
       "      <td>2016</td>\n",
       "      <td>0.205094</td>\n",
       "    </tr>\n",
       "    <tr>\n",
       "      <th>2341</th>\n",
       "      <td>Monaco</td>\n",
       "      <td>MCO</td>\n",
       "      <td>2013</td>\n",
       "      <td>45.787376</td>\n",
       "    </tr>\n",
       "    <tr>\n",
       "      <th>2479</th>\n",
       "      <td>Netherlands</td>\n",
       "      <td>NLD</td>\n",
       "      <td>2015</td>\n",
       "      <td>41.497757</td>\n",
       "    </tr>\n",
       "    <tr>\n",
       "      <th>1562</th>\n",
       "      <td>India</td>\n",
       "      <td>IND</td>\n",
       "      <td>2002</td>\n",
       "      <td>0.007538</td>\n",
       "    </tr>\n",
       "    <tr>\n",
       "      <th>2312</th>\n",
       "      <td>Moldova</td>\n",
       "      <td>MDA</td>\n",
       "      <td>2005</td>\n",
       "      <td>0.249922</td>\n",
       "    </tr>\n",
       "    <tr>\n",
       "      <th>2028</th>\n",
       "      <td>Lower middle income</td>\n",
       "      <td>NaN</td>\n",
       "      <td>2002</td>\n",
       "      <td>0.012741</td>\n",
       "    </tr>\n",
       "    <tr>\n",
       "      <th>3568</th>\n",
       "      <td>Turkmenistan</td>\n",
       "      <td>TKM</td>\n",
       "      <td>2008</td>\n",
       "      <td>0.001520</td>\n",
       "    </tr>\n",
       "    <tr>\n",
       "      <th>2954</th>\n",
       "      <td>Saint Lucia</td>\n",
       "      <td>LCA</td>\n",
       "      <td>2013</td>\n",
       "      <td>13.916727</td>\n",
       "    </tr>\n",
       "    <tr>\n",
       "      <th>1290</th>\n",
       "      <td>Georgia</td>\n",
       "      <td>GEO</td>\n",
       "      <td>2018</td>\n",
       "      <td>21.416899</td>\n",
       "    </tr>\n",
       "  </tbody>\n",
       "</table>\n",
       "</div>"
      ],
      "text/plain": [
       "                   Entity Code  Year  Broadband_Subscriptions\n",
       "296               Belarus  BLR  2017                33.473106\n",
       "355                 Benin  BEN  2016                 0.205094\n",
       "2341               Monaco  MCO  2013                45.787376\n",
       "2479          Netherlands  NLD  2015                41.497757\n",
       "1562                India  IND  2002                 0.007538\n",
       "2312              Moldova  MDA  2005                 0.249922\n",
       "2028  Lower middle income  NaN  2002                 0.012741\n",
       "3568         Turkmenistan  TKM  2008                 0.001520\n",
       "2954          Saint Lucia  LCA  2013                13.916727\n",
       "1290              Georgia  GEO  2018                21.416899"
      ]
     },
     "execution_count": 8,
     "metadata": {},
     "output_type": "execute_result"
    }
   ],
   "source": [
    "broadband_df.sample(10)"
   ]
  },
  {
   "cell_type": "code",
   "execution_count": 9,
   "metadata": {},
   "outputs": [
    {
     "name": "stdout",
     "output_type": "stream",
     "text": [
      "\u001b[1m\u001b[90mThe dataset has a size of:\u001b[0m (3888, 4) \n",
      "\n",
      "\u001b[1m\u001b[90mMissing values:\u001b[0m\n"
     ]
    },
    {
     "data": {
      "text/plain": [
       "Entity                       0\n",
       "Code                       271\n",
       "Year                         0\n",
       "Broadband_Subscriptions      0\n",
       "dtype: int64"
      ]
     },
     "execution_count": 9,
     "metadata": {},
     "output_type": "execute_result"
    }
   ],
   "source": [
    "print(clr.S+\"The dataset has a size of:\"+clr.E, broadband_df.shape, \"\\n\")\n",
    "\n",
    "print(clr.S+\"Missing values:\"+clr.E)\n",
    "broadband_df.isna().sum()"
   ]
  },
  {
   "cell_type": "markdown",
   "metadata": {},
   "source": [
    "<div class=\"alert simple-alert\">\n",
    "  <p>💡<b>Note</b>: We Have Missing value on Code and Base on DataSet Description it's because of null value for group and Region 🎉</p\n",
    "</div>"
   ]
  },
  {
   "cell_type": "code",
   "execution_count": 10,
   "metadata": {},
   "outputs": [
    {
     "data": {
      "text/plain": [
       "count    3888.000000\n",
       "mean       10.147989\n",
       "std        12.617045\n",
       "min         0.000000\n",
       "25%         0.279275\n",
       "50%         3.799865\n",
       "75%        17.749008\n",
       "max        78.524361\n",
       "Name: Broadband_Subscriptions, dtype: float64"
      ]
     },
     "execution_count": 10,
     "metadata": {},
     "output_type": "execute_result"
    }
   ],
   "source": [
    "broadband_df[\"Broadband_Subscriptions\"].describe()"
   ]
  },
  {
   "cell_type": "markdown",
   "metadata": {},
   "source": [
    "<div class=\"alert simple-alert\">\n",
    "  <p>💡<b>Note</b>: Based On Statistics of Data, \"Broadband Subscription\" seems in Percentage  🎉</p\n",
    "</div>"
   ]
  },
  {
   "cell_type": "markdown",
   "metadata": {},
   "source": [
    "<h2>1-4-Region</h2>"
   ]
  },
  {
   "cell_type": "markdown",
   "metadata": {},
   "source": [
    "![Region](img/Regions.jpg)"
   ]
  },
  {
   "cell_type": "markdown",
   "metadata": {},
   "source": [
    "📝 Regarding the answer to the third question,we need a table which regional category each country belongs to and so I collect it by myself."
   ]
  },
  {
   "cell_type": "code",
   "execution_count": 11,
   "metadata": {},
   "outputs": [
    {
     "data": {
      "text/html": [
       "<div>\n",
       "<style scoped>\n",
       "    .dataframe tbody tr th:only-of-type {\n",
       "        vertical-align: middle;\n",
       "    }\n",
       "\n",
       "    .dataframe tbody tr th {\n",
       "        vertical-align: top;\n",
       "    }\n",
       "\n",
       "    .dataframe thead th {\n",
       "        text-align: right;\n",
       "    }\n",
       "</style>\n",
       "<table border=\"1\" class=\"dataframe\">\n",
       "  <thead>\n",
       "    <tr style=\"text-align: right;\">\n",
       "      <th></th>\n",
       "      <th>Countries</th>\n",
       "      <th>Region</th>\n",
       "    </tr>\n",
       "  </thead>\n",
       "  <tbody>\n",
       "    <tr>\n",
       "      <th>137</th>\n",
       "      <td>Macao</td>\n",
       "      <td>East Asia &amp; Pacific</td>\n",
       "    </tr>\n",
       "    <tr>\n",
       "      <th>127</th>\n",
       "      <td>Slovakia</td>\n",
       "      <td>European Union</td>\n",
       "    </tr>\n",
       "    <tr>\n",
       "      <th>25</th>\n",
       "      <td>Cape Verde</td>\n",
       "      <td>Africa Western and Central</td>\n",
       "    </tr>\n",
       "    <tr>\n",
       "      <th>114</th>\n",
       "      <td>Italy</td>\n",
       "      <td>European Union</td>\n",
       "    </tr>\n",
       "    <tr>\n",
       "      <th>82</th>\n",
       "      <td>Nicaragua</td>\n",
       "      <td>Latin America &amp; Caribbean</td>\n",
       "    </tr>\n",
       "    <tr>\n",
       "      <th>2</th>\n",
       "      <td>Djibouti</td>\n",
       "      <td>Africa Eastern and Southern</td>\n",
       "    </tr>\n",
       "    <tr>\n",
       "      <th>99</th>\n",
       "      <td>Canada</td>\n",
       "      <td>North America</td>\n",
       "    </tr>\n",
       "    <tr>\n",
       "      <th>130</th>\n",
       "      <td>United Kingdom</td>\n",
       "      <td>European Union</td>\n",
       "    </tr>\n",
       "    <tr>\n",
       "      <th>27</th>\n",
       "      <td>Gambia</td>\n",
       "      <td>Africa Western and Central</td>\n",
       "    </tr>\n",
       "    <tr>\n",
       "      <th>74</th>\n",
       "      <td>Saint Kitts and Nevis</td>\n",
       "      <td>Latin America &amp; Caribbean</td>\n",
       "    </tr>\n",
       "  </tbody>\n",
       "</table>\n",
       "</div>"
      ],
      "text/plain": [
       "                  Countries                       Region\n",
       "137                   Macao          East Asia & Pacific\n",
       "127                Slovakia               European Union\n",
       "25              Cape Verde    Africa Western and Central\n",
       "114                   Italy               European Union\n",
       "82               Nicaragua     Latin America & Caribbean\n",
       "2                 Djibouti   Africa Eastern and Southern\n",
       "99                  Canada                 North America\n",
       "130          United Kingdom               European Union\n",
       "27                  Gambia    Africa Western and Central\n",
       "74   Saint Kitts and Nevis     Latin America & Caribbean"
      ]
     },
     "execution_count": 11,
     "metadata": {},
     "output_type": "execute_result"
    }
   ],
   "source": [
    "region_df.sample(10)"
   ]
  },
  {
   "cell_type": "markdown",
   "metadata": {},
   "source": [
    "🧪👩‍🔬 Some tailors are needed to be perfectly match on merge operation."
   ]
  },
  {
   "cell_type": "code",
   "execution_count": 12,
   "metadata": {},
   "outputs": [
    {
     "data": {
      "text/html": [
       "<div>\n",
       "<style scoped>\n",
       "    .dataframe tbody tr th:only-of-type {\n",
       "        vertical-align: middle;\n",
       "    }\n",
       "\n",
       "    .dataframe tbody tr th {\n",
       "        vertical-align: top;\n",
       "    }\n",
       "\n",
       "    .dataframe thead th {\n",
       "        text-align: right;\n",
       "    }\n",
       "</style>\n",
       "<table border=\"1\" class=\"dataframe\">\n",
       "  <thead>\n",
       "    <tr style=\"text-align: right;\">\n",
       "      <th></th>\n",
       "      <th>Countries</th>\n",
       "      <th>Region</th>\n",
       "    </tr>\n",
       "  </thead>\n",
       "  <tbody>\n",
       "    <tr>\n",
       "      <th>0</th>\n",
       "      <td>Burundi</td>\n",
       "      <td>Africa Eastern and Southern</td>\n",
       "    </tr>\n",
       "    <tr>\n",
       "      <th>1</th>\n",
       "      <td>Comoros</td>\n",
       "      <td>Africa Eastern and Southern</td>\n",
       "    </tr>\n",
       "    <tr>\n",
       "      <th>2</th>\n",
       "      <td>Djibouti</td>\n",
       "      <td>Africa Eastern and Southern</td>\n",
       "    </tr>\n",
       "    <tr>\n",
       "      <th>3</th>\n",
       "      <td>Eritrea</td>\n",
       "      <td>Africa Eastern and Southern</td>\n",
       "    </tr>\n",
       "    <tr>\n",
       "      <th>4</th>\n",
       "      <td>Ethiopia</td>\n",
       "      <td>Africa Eastern and Southern</td>\n",
       "    </tr>\n",
       "    <tr>\n",
       "      <th>...</th>\n",
       "      <td>...</td>\n",
       "      <td>...</td>\n",
       "    </tr>\n",
       "    <tr>\n",
       "      <th>171</th>\n",
       "      <td>India</td>\n",
       "      <td>South Asia</td>\n",
       "    </tr>\n",
       "    <tr>\n",
       "      <th>172</th>\n",
       "      <td>Maldives</td>\n",
       "      <td>South Asia</td>\n",
       "    </tr>\n",
       "    <tr>\n",
       "      <th>173</th>\n",
       "      <td>Nepal</td>\n",
       "      <td>South Asia</td>\n",
       "    </tr>\n",
       "    <tr>\n",
       "      <th>174</th>\n",
       "      <td>Pakistan</td>\n",
       "      <td>South Asia</td>\n",
       "    </tr>\n",
       "    <tr>\n",
       "      <th>175</th>\n",
       "      <td>Sri Lanka</td>\n",
       "      <td>South Asia</td>\n",
       "    </tr>\n",
       "  </tbody>\n",
       "</table>\n",
       "<p>176 rows × 2 columns</p>\n",
       "</div>"
      ],
      "text/plain": [
       "     Countries                       Region\n",
       "0      Burundi  Africa Eastern and Southern\n",
       "1      Comoros  Africa Eastern and Southern\n",
       "2     Djibouti  Africa Eastern and Southern\n",
       "3      Eritrea  Africa Eastern and Southern\n",
       "4     Ethiopia  Africa Eastern and Southern\n",
       "..         ...                          ...\n",
       "171      India                   South Asia\n",
       "172   Maldives                   South Asia\n",
       "173      Nepal                   South Asia\n",
       "174   Pakistan                   South Asia\n",
       "175  Sri Lanka                   South Asia\n",
       "\n",
       "[176 rows x 2 columns]"
      ]
     },
     "execution_count": 12,
     "metadata": {},
     "output_type": "execute_result"
    }
   ],
   "source": [
    "region_df['Countries']=region_df[\"Countries\"].str.strip()\n",
    "region_df"
   ]
  },
  {
   "cell_type": "markdown",
   "metadata": {},
   "source": [
    "<h1>2-Questions Answers </h1>"
   ]
  },
  {
   "cell_type": "markdown",
   "metadata": {},
   "source": [
    "![Region](img/Answers.jpeg)"
   ]
  },
  {
   "cell_type": "markdown",
   "metadata": {},
   "source": [
    "⚠ As written in all three tables in the description of the data set, the classification regions of the countries and their common groupings also appear in this table as separate records, which must be filtered to answer the question about the countries. The three-letter index of the countries was used (because the index is appeared as null for these categories) to do this. Also, another filter was added that this index must be three letters, which as you can see, also, another filter was added to ensure that this index is three letters, as you can see, this index was used to filter the overall statistics of the world and the Kosovo [<sup>5</sup>](#fn5).<br><br>\n",
    "\n",
    "\n",
    "\n",
    "<hr style=\"width:40%\">\n",
    " [<sup>5</sup>]<span id=\"fn5\">Kosovo officially the Republic of Kosovo is a partially recognised state in Southeast Europe. </span>"
   ]
  },
  {
   "cell_type": "markdown",
   "metadata": {},
   "source": [
    "<h2>First Question:</h2>"
   ]
  },
  {
   "cell_type": "markdown",
   "metadata": {},
   "source": [
    "1. What are the top 5 countries with the highest internet use (by population share)?"
   ]
  },
  {
   "cell_type": "code",
   "execution_count": 34,
   "metadata": {},
   "outputs": [
    {
     "name": "stdout",
     "output_type": "stream",
     "text": [
      "\u001b[1m\u001b[90mTop 5 countries with the highest internet use:\u001b[0m\n"
     ]
    },
    {
     "data": {
      "text/html": [
       "<div>\n",
       "<style scoped>\n",
       "    .dataframe tbody tr th:only-of-type {\n",
       "        vertical-align: middle;\n",
       "    }\n",
       "\n",
       "    .dataframe tbody tr th {\n",
       "        vertical-align: top;\n",
       "    }\n",
       "\n",
       "    .dataframe thead th {\n",
       "        text-align: right;\n",
       "    }\n",
       "</style>\n",
       "<table border=\"1\" class=\"dataframe\">\n",
       "  <thead>\n",
       "    <tr style=\"text-align: right;\">\n",
       "      <th></th>\n",
       "      <th>Country</th>\n",
       "      <th>Internet Share</th>\n",
       "    </tr>\n",
       "  </thead>\n",
       "  <tbody>\n",
       "    <tr>\n",
       "      <th>0</th>\n",
       "      <td>Curacao</td>\n",
       "      <td>64.991363</td>\n",
       "    </tr>\n",
       "    <tr>\n",
       "      <th>1</th>\n",
       "      <td>Iceland</td>\n",
       "      <td>62.293549</td>\n",
       "    </tr>\n",
       "    <tr>\n",
       "      <th>2</th>\n",
       "      <td>Norway</td>\n",
       "      <td>61.851339</td>\n",
       "    </tr>\n",
       "    <tr>\n",
       "      <th>3</th>\n",
       "      <td>Sweden</td>\n",
       "      <td>59.268944</td>\n",
       "    </tr>\n",
       "    <tr>\n",
       "      <th>4</th>\n",
       "      <td>Denmark</td>\n",
       "      <td>58.460243</td>\n",
       "    </tr>\n",
       "  </tbody>\n",
       "</table>\n",
       "</div>"
      ],
      "text/plain": [
       "   Country  Internet Share\n",
       "0  Curacao       64.991363\n",
       "1  Iceland       62.293549\n",
       "2   Norway       61.851339\n",
       "3   Sweden       59.268944\n",
       "4  Denmark       58.460243"
      ]
     },
     "execution_count": 34,
     "metadata": {},
     "output_type": "execute_result"
    }
   ],
   "source": [
    "Answer_1=internet_df[( ~ internet_df[\"Code\"].isnull())&(internet_df[\"Code\"].map(str).apply(len)==3)]\\\n",
    "  .groupby(\"Entity\")[\"Internet_Usage\"].agg(['mean']).sort_values(['mean'],ascending=False).reset_index().head(5)\n",
    "Answer_1.columns=[\"Country\",\"Internet Share\"]\n",
    "print(clr.S+\"Top 5 countries with the highest internet use:\"+clr.E)\n",
    "Answer_1"
   ]
  },
  {
   "cell_type": "markdown",
   "metadata": {},
   "source": [
    "🔔 I was completely shocked when I saw the answer to the first question, in that we obtained the average data in different years to compare the highest level of Internet access, I have to admit that I had never heard the name of the first country, and had to search on Google to find out where it is. But absolutely everything was in line with the expectations regarding the second to fifth places. These countries have all been recognized as the best countries in terms of welfare level and it is natural that they got the top positions in this survey. "
   ]
  },
  {
   "cell_type": "markdown",
   "metadata": {},
   "source": [
    "<h2>Second Question:</h2>"
   ]
  },
  {
   "cell_type": "markdown",
   "metadata": {},
   "source": [
    "2. How many people had internet access in those countries in 2019?"
   ]
  },
  {
   "cell_type": "code",
   "execution_count": 46,
   "metadata": {},
   "outputs": [
    {
     "name": "stdout",
     "output_type": "stream",
     "text": [
      "\u001b[1m\u001b[90mNumber of people had internet access in those countries in 2019:\u001b[0m\n"
     ]
    },
    {
     "data": {
      "text/html": [
       "<div>\n",
       "<style scoped>\n",
       "    .dataframe tbody tr th:only-of-type {\n",
       "        vertical-align: middle;\n",
       "    }\n",
       "\n",
       "    .dataframe tbody tr th {\n",
       "        vertical-align: top;\n",
       "    }\n",
       "\n",
       "    .dataframe thead th {\n",
       "        text-align: right;\n",
       "    }\n",
       "</style>\n",
       "<table border=\"1\" class=\"dataframe\">\n",
       "  <thead>\n",
       "    <tr style=\"text-align: right;\">\n",
       "      <th></th>\n",
       "      <th>Country</th>\n",
       "      <th>Users (Millions)</th>\n",
       "    </tr>\n",
       "  </thead>\n",
       "  <tbody>\n",
       "    <tr>\n",
       "      <th>0</th>\n",
       "      <td>Sweden</td>\n",
       "      <td>9.702513</td>\n",
       "    </tr>\n",
       "    <tr>\n",
       "      <th>1</th>\n",
       "      <td>Denmark</td>\n",
       "      <td>5.682653</td>\n",
       "    </tr>\n",
       "    <tr>\n",
       "      <th>2</th>\n",
       "      <td>Norway</td>\n",
       "      <td>5.241320</td>\n",
       "    </tr>\n",
       "    <tr>\n",
       "      <th>3</th>\n",
       "      <td>Iceland</td>\n",
       "      <td>0.357179</td>\n",
       "    </tr>\n",
       "  </tbody>\n",
       "</table>\n",
       "</div>"
      ],
      "text/plain": [
       "   Country  Users (Millions)\n",
       "0   Sweden          9.702513\n",
       "1  Denmark          5.682653\n",
       "2   Norway          5.241320\n",
       "3  Iceland          0.357179"
      ]
     },
     "execution_count": 46,
     "metadata": {},
     "output_type": "execute_result"
    }
   ],
   "source": [
    "Answer_2=pd.merge(Answer_1,people_df,left_on='Country',right_on='Entity',how='left')\n",
    "Answer_2=Answer_2[Answer_2[\"Year\"]==2019][['Entity','Users']].sort_values(\"Users\",ascending=False).reset_index(drop=True)\n",
    "Answer_2.columns=[\"Country\",\"Users\"]\n",
    "Answer_2[\"Users\"]=Answer_2[\"Users\"]/1000000\n",
    "Answer_2.columns=[\"Country\",\"Users (Millions)\"]\n",
    "print(clr.S+\"Number of people had internet access in those countries in 2019:\"+clr.E)\n",
    "Answer_2"
   ]
  },
  {
   "cell_type": "markdown",
   "metadata": {},
   "source": [
    "🔔 It was also a bit challenging to answer the second question. As you can see, no information can be found about the Curacao in 2019 due to the merge between the results of the first question and this table, but the leader of the statistics is as follows for the rest of the countries."
   ]
  },
  {
   "cell_type": "markdown",
   "metadata": {},
   "source": [
    "<h2>Third Question:</h2>"
   ]
  },
  {
   "cell_type": "markdown",
   "metadata": {},
   "source": [
    "3. What are the top 5 countries with the highest internet use for each of the following regions: 'Africa Eastern and Southern', 'Africa Western and Central', 'Latin America & Caribbean', 'East Asia & Pacific', 'South Asia', 'North America', 'European Union'?"
   ]
  },
  {
   "cell_type": "markdown",
   "metadata": {},
   "source": [
    "📝 Regarding the answer to the third question, either an error was made in sending the data or the ability to collect the data of the participants was assessed, because in none of the presented tables it was written which regional category each country belongs to, and it should This table was prepared by the participants themselves, in any case, it was impossible to answer this question without having this table, and it was difficult to prepare the table for two reasons.\n",
    "\n",
    "1.\tThere is no precise and explicit criterion for the classification of countries in terms of regions, and there is a significant difference in this matter.\n",
    "2.\tSome countries have different titles and are not necessarily the same as the name mentioned in the data. So it is necessary to do equalization manually.\n",
    "\n",
    "On the other hand, these differences of opinion in the division will cause that there will probably not be unique correct answers.\n",
    "Anyway, the result can be mentioned as follows after searching and finding the division that there is almost a consensus on it.\n"
   ]
  },
  {
   "cell_type": "code",
   "execution_count": 71,
   "metadata": {},
   "outputs": [
    {
     "name": "stdout",
     "output_type": "stream",
     "text": [
      "\u001b[1m\u001b[90mTop 5 Countries in :          \u001b[0m\u001b[3mAfrica Eastern and Southern\u001b[0m\n"
     ]
    },
    {
     "data": {
      "text/html": [
       "<div>\n",
       "<style scoped>\n",
       "    .dataframe tbody tr th:only-of-type {\n",
       "        vertical-align: middle;\n",
       "    }\n",
       "\n",
       "    .dataframe tbody tr th {\n",
       "        vertical-align: top;\n",
       "    }\n",
       "\n",
       "    .dataframe thead th {\n",
       "        text-align: right;\n",
       "    }\n",
       "</style>\n",
       "<table border=\"1\" class=\"dataframe\">\n",
       "  <thead>\n",
       "    <tr style=\"text-align: right;\">\n",
       "      <th></th>\n",
       "      <th>Countries</th>\n",
       "      <th>Share Of Internet Use</th>\n",
       "    </tr>\n",
       "  </thead>\n",
       "  <tbody>\n",
       "    <tr>\n",
       "      <th>1</th>\n",
       "      <td>Seychelles</td>\n",
       "      <td>23.107159</td>\n",
       "    </tr>\n",
       "    <tr>\n",
       "      <th>2</th>\n",
       "      <td>Mauritius</td>\n",
       "      <td>20.681014</td>\n",
       "    </tr>\n",
       "    <tr>\n",
       "      <th>3</th>\n",
       "      <td>South Africa</td>\n",
       "      <td>15.806138</td>\n",
       "    </tr>\n",
       "    <tr>\n",
       "      <th>4</th>\n",
       "      <td>Botswana</td>\n",
       "      <td>9.274648</td>\n",
       "    </tr>\n",
       "    <tr>\n",
       "      <th>5</th>\n",
       "      <td>Namibia</td>\n",
       "      <td>7.088230</td>\n",
       "    </tr>\n",
       "  </tbody>\n",
       "</table>\n",
       "</div>"
      ],
      "text/plain": [
       "      Countries  Share Of Internet Use\n",
       "1    Seychelles              23.107159\n",
       "2     Mauritius              20.681014\n",
       "3  South Africa              15.806138\n",
       "4      Botswana               9.274648\n",
       "5       Namibia               7.088230"
      ]
     },
     "metadata": {},
     "output_type": "display_data"
    },
    {
     "name": "stdout",
     "output_type": "stream",
     "text": [
      "\n",
      "\n",
      "\u001b[1m\u001b[90mTop 5 Countries in :          \u001b[0m\u001b[3mAfrica Western and Central\u001b[0m\n"
     ]
    },
    {
     "data": {
      "text/html": [
       "<div>\n",
       "<style scoped>\n",
       "    .dataframe tbody tr th:only-of-type {\n",
       "        vertical-align: middle;\n",
       "    }\n",
       "\n",
       "    .dataframe tbody tr th {\n",
       "        vertical-align: top;\n",
       "    }\n",
       "\n",
       "    .dataframe thead th {\n",
       "        text-align: right;\n",
       "    }\n",
       "</style>\n",
       "<table border=\"1\" class=\"dataframe\">\n",
       "  <thead>\n",
       "    <tr style=\"text-align: right;\">\n",
       "      <th></th>\n",
       "      <th>Countries</th>\n",
       "      <th>Share Of Internet Use</th>\n",
       "    </tr>\n",
       "  </thead>\n",
       "  <tbody>\n",
       "    <tr>\n",
       "      <th>1</th>\n",
       "      <td>Cape Verde</td>\n",
       "      <td>14.828820</td>\n",
       "    </tr>\n",
       "    <tr>\n",
       "      <th>2</th>\n",
       "      <td>Sao Tome and Principe</td>\n",
       "      <td>11.874641</td>\n",
       "    </tr>\n",
       "    <tr>\n",
       "      <th>3</th>\n",
       "      <td>Gabon</td>\n",
       "      <td>11.125883</td>\n",
       "    </tr>\n",
       "    <tr>\n",
       "      <th>4</th>\n",
       "      <td>Ghana</td>\n",
       "      <td>6.708811</td>\n",
       "    </tr>\n",
       "    <tr>\n",
       "      <th>5</th>\n",
       "      <td>Senegal</td>\n",
       "      <td>6.533151</td>\n",
       "    </tr>\n",
       "  </tbody>\n",
       "</table>\n",
       "</div>"
      ],
      "text/plain": [
       "               Countries  Share Of Internet Use\n",
       "1             Cape Verde              14.828820\n",
       "2  Sao Tome and Principe              11.874641\n",
       "3                  Gabon              11.125883\n",
       "4                  Ghana               6.708811\n",
       "5                Senegal               6.533151"
      ]
     },
     "metadata": {},
     "output_type": "display_data"
    },
    {
     "name": "stdout",
     "output_type": "stream",
     "text": [
      "\n",
      "\n",
      "\u001b[1m\u001b[90mTop 5 Countries in :          \u001b[0m\u001b[3mEast Asia & Pacific\u001b[0m\n"
     ]
    },
    {
     "data": {
      "text/html": [
       "<div>\n",
       "<style scoped>\n",
       "    .dataframe tbody tr th:only-of-type {\n",
       "        vertical-align: middle;\n",
       "    }\n",
       "\n",
       "    .dataframe tbody tr th {\n",
       "        vertical-align: top;\n",
       "    }\n",
       "\n",
       "    .dataframe thead th {\n",
       "        text-align: right;\n",
       "    }\n",
       "</style>\n",
       "<table border=\"1\" class=\"dataframe\">\n",
       "  <thead>\n",
       "    <tr style=\"text-align: right;\">\n",
       "      <th></th>\n",
       "      <th>Countries</th>\n",
       "      <th>Share Of Internet Use</th>\n",
       "    </tr>\n",
       "  </thead>\n",
       "  <tbody>\n",
       "    <tr>\n",
       "      <th>1</th>\n",
       "      <td>South Korea</td>\n",
       "      <td>54.095098</td>\n",
       "    </tr>\n",
       "    <tr>\n",
       "      <th>2</th>\n",
       "      <td>New Zealand</td>\n",
       "      <td>50.699451</td>\n",
       "    </tr>\n",
       "    <tr>\n",
       "      <th>3</th>\n",
       "      <td>Japan</td>\n",
       "      <td>49.030426</td>\n",
       "    </tr>\n",
       "    <tr>\n",
       "      <th>4</th>\n",
       "      <td>Australia</td>\n",
       "      <td>48.202448</td>\n",
       "    </tr>\n",
       "    <tr>\n",
       "      <th>5</th>\n",
       "      <td>Singapore</td>\n",
       "      <td>47.946487</td>\n",
       "    </tr>\n",
       "  </tbody>\n",
       "</table>\n",
       "</div>"
      ],
      "text/plain": [
       "     Countries  Share Of Internet Use\n",
       "1  South Korea              54.095098\n",
       "2  New Zealand              50.699451\n",
       "3        Japan              49.030426\n",
       "4    Australia              48.202448\n",
       "5    Singapore              47.946487"
      ]
     },
     "metadata": {},
     "output_type": "display_data"
    },
    {
     "name": "stdout",
     "output_type": "stream",
     "text": [
      "\n",
      "\n",
      "\u001b[1m\u001b[90mTop 5 Countries in :          \u001b[0m\u001b[3mEuropean Union\u001b[0m\n"
     ]
    },
    {
     "data": {
      "text/html": [
       "<div>\n",
       "<style scoped>\n",
       "    .dataframe tbody tr th:only-of-type {\n",
       "        vertical-align: middle;\n",
       "    }\n",
       "\n",
       "    .dataframe tbody tr th {\n",
       "        vertical-align: top;\n",
       "    }\n",
       "\n",
       "    .dataframe thead th {\n",
       "        text-align: right;\n",
       "    }\n",
       "</style>\n",
       "<table border=\"1\" class=\"dataframe\">\n",
       "  <thead>\n",
       "    <tr style=\"text-align: right;\">\n",
       "      <th></th>\n",
       "      <th>Countries</th>\n",
       "      <th>Share Of Internet Use</th>\n",
       "    </tr>\n",
       "  </thead>\n",
       "  <tbody>\n",
       "    <tr>\n",
       "      <th>1</th>\n",
       "      <td>Sweden</td>\n",
       "      <td>59.268944</td>\n",
       "    </tr>\n",
       "    <tr>\n",
       "      <th>2</th>\n",
       "      <td>Denmark</td>\n",
       "      <td>58.460243</td>\n",
       "    </tr>\n",
       "    <tr>\n",
       "      <th>3</th>\n",
       "      <td>Netherlands</td>\n",
       "      <td>57.863895</td>\n",
       "    </tr>\n",
       "    <tr>\n",
       "      <th>4</th>\n",
       "      <td>Finland</td>\n",
       "      <td>56.271544</td>\n",
       "    </tr>\n",
       "    <tr>\n",
       "      <th>5</th>\n",
       "      <td>United Kingdom</td>\n",
       "      <td>52.441422</td>\n",
       "    </tr>\n",
       "  </tbody>\n",
       "</table>\n",
       "</div>"
      ],
      "text/plain": [
       "        Countries  Share Of Internet Use\n",
       "1          Sweden              59.268944\n",
       "2         Denmark              58.460243\n",
       "3     Netherlands              57.863895\n",
       "4         Finland              56.271544\n",
       "5  United Kingdom              52.441422"
      ]
     },
     "metadata": {},
     "output_type": "display_data"
    },
    {
     "name": "stdout",
     "output_type": "stream",
     "text": [
      "\n",
      "\n",
      "\u001b[1m\u001b[90mTop 5 Countries in :          \u001b[0m\u001b[3mLatin America & Caribbean\u001b[0m\n"
     ]
    },
    {
     "data": {
      "text/html": [
       "<div>\n",
       "<style scoped>\n",
       "    .dataframe tbody tr th:only-of-type {\n",
       "        vertical-align: middle;\n",
       "    }\n",
       "\n",
       "    .dataframe tbody tr th {\n",
       "        vertical-align: top;\n",
       "    }\n",
       "\n",
       "    .dataframe thead th {\n",
       "        text-align: right;\n",
       "    }\n",
       "</style>\n",
       "<table border=\"1\" class=\"dataframe\">\n",
       "  <thead>\n",
       "    <tr style=\"text-align: right;\">\n",
       "      <th></th>\n",
       "      <th>Countries</th>\n",
       "      <th>Share Of Internet Use</th>\n",
       "    </tr>\n",
       "  </thead>\n",
       "  <tbody>\n",
       "    <tr>\n",
       "      <th>1</th>\n",
       "      <td>Cayman Islands</td>\n",
       "      <td>44.827210</td>\n",
       "    </tr>\n",
       "    <tr>\n",
       "      <th>2</th>\n",
       "      <td>Barbados</td>\n",
       "      <td>36.358693</td>\n",
       "    </tr>\n",
       "    <tr>\n",
       "      <th>3</th>\n",
       "      <td>Aruba</td>\n",
       "      <td>36.298887</td>\n",
       "    </tr>\n",
       "    <tr>\n",
       "      <th>4</th>\n",
       "      <td>Saint Kitts and Nevis</td>\n",
       "      <td>31.118344</td>\n",
       "    </tr>\n",
       "    <tr>\n",
       "      <th>5</th>\n",
       "      <td>Uruguay</td>\n",
       "      <td>29.241528</td>\n",
       "    </tr>\n",
       "  </tbody>\n",
       "</table>\n",
       "</div>"
      ],
      "text/plain": [
       "               Countries  Share Of Internet Use\n",
       "1         Cayman Islands              44.827210\n",
       "2               Barbados              36.358693\n",
       "3                  Aruba              36.298887\n",
       "4  Saint Kitts and Nevis              31.118344\n",
       "5                Uruguay              29.241528"
      ]
     },
     "metadata": {},
     "output_type": "display_data"
    },
    {
     "name": "stdout",
     "output_type": "stream",
     "text": [
      "\n",
      "\n",
      "\u001b[1m\u001b[90mTop 5 Countries in :          \u001b[0m\u001b[3mNorth America\u001b[0m\n"
     ]
    },
    {
     "data": {
      "text/html": [
       "<div>\n",
       "<style scoped>\n",
       "    .dataframe tbody tr th:only-of-type {\n",
       "        vertical-align: middle;\n",
       "    }\n",
       "\n",
       "    .dataframe tbody tr th {\n",
       "        vertical-align: top;\n",
       "    }\n",
       "\n",
       "    .dataframe thead th {\n",
       "        text-align: right;\n",
       "    }\n",
       "</style>\n",
       "<table border=\"1\" class=\"dataframe\">\n",
       "  <thead>\n",
       "    <tr style=\"text-align: right;\">\n",
       "      <th></th>\n",
       "      <th>Countries</th>\n",
       "      <th>Share Of Internet Use</th>\n",
       "    </tr>\n",
       "  </thead>\n",
       "  <tbody>\n",
       "    <tr>\n",
       "      <th>1</th>\n",
       "      <td>Bermuda</td>\n",
       "      <td>53.756125</td>\n",
       "    </tr>\n",
       "    <tr>\n",
       "      <th>2</th>\n",
       "      <td>Canada</td>\n",
       "      <td>52.252901</td>\n",
       "    </tr>\n",
       "    <tr>\n",
       "      <th>3</th>\n",
       "      <td>United States</td>\n",
       "      <td>50.162525</td>\n",
       "    </tr>\n",
       "    <tr>\n",
       "      <th>4</th>\n",
       "      <td>Greenland</td>\n",
       "      <td>39.353280</td>\n",
       "    </tr>\n",
       "  </tbody>\n",
       "</table>\n",
       "</div>"
      ],
      "text/plain": [
       "       Countries  Share Of Internet Use\n",
       "1        Bermuda              53.756125\n",
       "2         Canada              52.252901\n",
       "3  United States              50.162525\n",
       "4      Greenland              39.353280"
      ]
     },
     "metadata": {},
     "output_type": "display_data"
    },
    {
     "name": "stdout",
     "output_type": "stream",
     "text": [
      "\n",
      "\n",
      "\u001b[1m\u001b[90mTop 5 Countries in :          \u001b[0m\u001b[3mSouth Asia\u001b[0m\n"
     ]
    },
    {
     "data": {
      "text/html": [
       "<div>\n",
       "<style scoped>\n",
       "    .dataframe tbody tr th:only-of-type {\n",
       "        vertical-align: middle;\n",
       "    }\n",
       "\n",
       "    .dataframe tbody tr th {\n",
       "        vertical-align: top;\n",
       "    }\n",
       "\n",
       "    .dataframe thead th {\n",
       "        text-align: right;\n",
       "    }\n",
       "</style>\n",
       "<table border=\"1\" class=\"dataframe\">\n",
       "  <thead>\n",
       "    <tr style=\"text-align: right;\">\n",
       "      <th></th>\n",
       "      <th>Countries</th>\n",
       "      <th>Share Of Internet Use</th>\n",
       "    </tr>\n",
       "  </thead>\n",
       "  <tbody>\n",
       "    <tr>\n",
       "      <th>1</th>\n",
       "      <td>Maldives</td>\n",
       "      <td>17.062356</td>\n",
       "    </tr>\n",
       "    <tr>\n",
       "      <th>2</th>\n",
       "      <td>Bhutan</td>\n",
       "      <td>8.939621</td>\n",
       "    </tr>\n",
       "    <tr>\n",
       "      <th>3</th>\n",
       "      <td>Sri Lanka</td>\n",
       "      <td>6.594811</td>\n",
       "    </tr>\n",
       "    <tr>\n",
       "      <th>4</th>\n",
       "      <td>India</td>\n",
       "      <td>5.815671</td>\n",
       "    </tr>\n",
       "    <tr>\n",
       "      <th>5</th>\n",
       "      <td>Pakistan</td>\n",
       "      <td>5.706616</td>\n",
       "    </tr>\n",
       "  </tbody>\n",
       "</table>\n",
       "</div>"
      ],
      "text/plain": [
       "   Countries  Share Of Internet Use\n",
       "1   Maldives              17.062356\n",
       "2     Bhutan               8.939621\n",
       "3  Sri Lanka               6.594811\n",
       "4      India               5.815671\n",
       "5   Pakistan               5.706616"
      ]
     },
     "metadata": {},
     "output_type": "display_data"
    },
    {
     "name": "stdout",
     "output_type": "stream",
     "text": [
      "\n",
      "\n"
     ]
    }
   ],
   "source": [
    "Third_answer=pd.merge(internet_df,region_df,left_on='Entity',right_on='Countries')\n",
    "Third_answer=Third_answer.groupby([\"Entity\",\"Region\"])['Internet_Usage'].agg(['mean']).sort_values('mean',ascending=False).reset_index()\n",
    "Third_answer=Third_answer.groupby(\"Region\").head(5).sort_values(by=[\"Region\",\"mean\"],ascending=[True,False]).reset_index(drop=True)\n",
    "for Region in sorted(list(set(Third_answer[\"Region\"]))):\n",
    "            print(clr.S+\"Top 5 Countries in :          \"+clr.E+'\\x1B[3m'+Region+'\\x1B[0m')       \n",
    "            Temp_df=Third_answer[Third_answer[\"Region\"]==Region][[\"Entity\",'mean']].reset_index(drop=True)\n",
    "            Temp_df.index=np.arange(1, len(Temp_df) + 1)\n",
    "            Temp_df.columns=[\"Countries\",\"Share Of Internet Use\"]\n",
    "            display(Temp_df)\n",
    "            print('\\n')\n",
    "# Third_answer"
   ]
  },
  {
   "cell_type": "markdown",
   "metadata": {},
   "source": [
    "🔔 The difference in the level of Internet access among the top countries of each region is very surprising and unfortunate at first glance. For example, this amount includes about half of the country's population in the European Union or North America, but this amount is extremely low and under ten percent in Africa or South Asia, and this is only for the top countries in that region."
   ]
  },
  {
   "cell_type": "markdown",
   "metadata": {},
   "source": [
    "<h2>Fourth Question:</h2>"
   ]
  },
  {
   "cell_type": "markdown",
   "metadata": {},
   "source": [
    "4. Create a visualization for those five regions' internet usage over time."
   ]
  },
  {
   "cell_type": "code",
   "execution_count": 94,
   "metadata": {},
   "outputs": [
    {
     "name": "stdout",
     "output_type": "stream",
     "text": [
      "\u001b[1m\u001b[90mThe growth rate of Internet access  from 1990 to 2020:\u001b[0m\n"
     ]
    },
    {
     "data": {
      "image/png": "[encoded data removed]",
      "text/plain": [
       "<Figure size 648x648 with 7 Axes>"
      ]
     },
     "metadata": {},
     "output_type": "display_data"
    }
   ],
   "source": [
    "Fourth_Answer=internet_df[internet_df[\"Code\"].isnull()].groupby([\"Entity\",\"Year\"])[\"Internet_Usage\"].agg(['mean'])\n",
    "Fourth_Answer=Fourth_Answer[Fourth_Answer.index.get_level_values('Entity').isin(region_df[\"Region\"])].reset_index()\n",
    "sns.set_style('darkgrid')\n",
    "\n",
    "Order_Region=sorted(list(set(Fourth_Answer['Entity'])))\n",
    "g=sns.FacetGrid(Fourth_Answer,col='Entity',col_wrap=3,row_order=Order_Region,sharex=False,sharey=True)\n",
    "g.map(sns.lineplot,'Year','mean')\n",
    "plt.subplots_adjust(hspace=0.4, wspace=0.4)\n",
    "axes = g.axes.flatten()\n",
    "print(clr.S+\"The growth rate of Internet access  from 1990 to 2020:\"+clr.E)\n",
    "for idx,region in enumerate(Order_Region):\n",
    "    axes[idx].set_title(region)\n",
    "    axes[idx].set_xlabel(\"Years\")\n",
    "    axes[idx].set_ylabel(\" Population Using Internet(%)\")\n"
   ]
  },
  {
   "cell_type": "code",
   "execution_count": 95,
   "metadata": {},
   "outputs": [],
   "source": [
    "Fourth_Answer=Fourth_Answer.groupby('Entity')['mean'].agg(['min','max']).reset_index()\n",
    "Fourth_Answer['Growth']=(Fourth_Answer['max']-Fourth_Answer['min'])/30"
   ]
  },
  {
   "cell_type": "code",
   "execution_count": 98,
   "metadata": {},
   "outputs": [
    {
     "data": {
      "text/html": [
       "<div>\n",
       "<style scoped>\n",
       "    .dataframe tbody tr th:only-of-type {\n",
       "        vertical-align: middle;\n",
       "    }\n",
       "\n",
       "    .dataframe tbody tr th {\n",
       "        vertical-align: top;\n",
       "    }\n",
       "\n",
       "    .dataframe thead th {\n",
       "        text-align: right;\n",
       "    }\n",
       "</style>\n",
       "<table border=\"1\" class=\"dataframe\">\n",
       "  <thead>\n",
       "    <tr style=\"text-align: right;\">\n",
       "      <th></th>\n",
       "      <th>Entity</th>\n",
       "      <th>min</th>\n",
       "      <th>max</th>\n",
       "      <th>Growth</th>\n",
       "    </tr>\n",
       "  </thead>\n",
       "  <tbody>\n",
       "    <tr>\n",
       "      <th>5</th>\n",
       "      <td>North America</td>\n",
       "      <td>0.742836</td>\n",
       "      <td>88.498903</td>\n",
       "      <td>2.925202</td>\n",
       "    </tr>\n",
       "    <tr>\n",
       "      <th>3</th>\n",
       "      <td>European Union</td>\n",
       "      <td>0.066722</td>\n",
       "      <td>85.429123</td>\n",
       "      <td>2.845413</td>\n",
       "    </tr>\n",
       "    <tr>\n",
       "      <th>4</th>\n",
       "      <td>Latin America &amp; Caribbean</td>\n",
       "      <td>0.000000</td>\n",
       "      <td>65.897182</td>\n",
       "      <td>2.196573</td>\n",
       "    </tr>\n",
       "    <tr>\n",
       "      <th>2</th>\n",
       "      <td>East Asia &amp; Pacific</td>\n",
       "      <td>0.007211</td>\n",
       "      <td>54.925229</td>\n",
       "      <td>1.830601</td>\n",
       "    </tr>\n",
       "    <tr>\n",
       "      <th>6</th>\n",
       "      <td>South Asia</td>\n",
       "      <td>0.000000</td>\n",
       "      <td>29.503040</td>\n",
       "      <td>0.983435</td>\n",
       "    </tr>\n",
       "    <tr>\n",
       "      <th>1</th>\n",
       "      <td>Africa Western and Central</td>\n",
       "      <td>0.000000</td>\n",
       "      <td>25.570184</td>\n",
       "      <td>0.852339</td>\n",
       "    </tr>\n",
       "    <tr>\n",
       "      <th>0</th>\n",
       "      <td>Africa Eastern and Southern</td>\n",
       "      <td>0.000000</td>\n",
       "      <td>21.281831</td>\n",
       "      <td>0.709394</td>\n",
       "    </tr>\n",
       "  </tbody>\n",
       "</table>\n",
       "</div>"
      ],
      "text/plain": [
       "                        Entity       min        max    Growth\n",
       "5                North America  0.742836  88.498903  2.925202\n",
       "3               European Union  0.066722  85.429123  2.845413\n",
       "4    Latin America & Caribbean  0.000000  65.897182  2.196573\n",
       "2          East Asia & Pacific  0.007211  54.925229  1.830601\n",
       "6                   South Asia  0.000000  29.503040  0.983435\n",
       "1   Africa Western and Central  0.000000  25.570184  0.852339\n",
       "0  Africa Eastern and Southern  0.000000  21.281831  0.709394"
      ]
     },
     "execution_count": 98,
     "metadata": {},
     "output_type": "execute_result"
    }
   ],
   "source": [
    "Fourth_Answer.sort_values('Growth',ascending=False)"
   ]
  },
  {
   "cell_type": "markdown",
   "metadata": {},
   "source": [
    "In response to the fourth question, it should be said that, as can be observed in the figure, the level of Internet access has grown with a suitable slope regardless of the regional division and its starting and ending points in all cases, and has been accompanied by growth in all regions so that Region North America with 2.92 has the highest average growth  and region Africa Eastern and Southern with 0.709 has the lowest average growth ."
   ]
  },
  {
   "cell_type": "markdown",
   "metadata": {},
   "source": [
    "<h2>Fifth Question:</h2>"
   ]
  },
  {
   "cell_type": "markdown",
   "metadata": {},
   "source": [
    "5. What are the 5 countries with the most internet users?"
   ]
  },
  {
   "cell_type": "code",
   "execution_count": 99,
   "metadata": {},
   "outputs": [
    {
     "data": {
      "text/html": [
       "<div>\n",
       "<style scoped>\n",
       "    .dataframe tbody tr th:only-of-type {\n",
       "        vertical-align: middle;\n",
       "    }\n",
       "\n",
       "    .dataframe tbody tr th {\n",
       "        vertical-align: top;\n",
       "    }\n",
       "\n",
       "    .dataframe thead th {\n",
       "        text-align: right;\n",
       "    }\n",
       "</style>\n",
       "<table border=\"1\" class=\"dataframe\">\n",
       "  <thead>\n",
       "    <tr style=\"text-align: right;\">\n",
       "      <th></th>\n",
       "      <th>Country</th>\n",
       "      <th>Users (Milion)</th>\n",
       "    </tr>\n",
       "  </thead>\n",
       "  <tbody>\n",
       "    <tr>\n",
       "      <th>0</th>\n",
       "      <td>China</td>\n",
       "      <td>299.029080</td>\n",
       "    </tr>\n",
       "    <tr>\n",
       "      <th>1</th>\n",
       "      <td>United States</td>\n",
       "      <td>163.553625</td>\n",
       "    </tr>\n",
       "    <tr>\n",
       "      <th>2</th>\n",
       "      <td>India</td>\n",
       "      <td>94.917555</td>\n",
       "    </tr>\n",
       "    <tr>\n",
       "      <th>3</th>\n",
       "      <td>Japan</td>\n",
       "      <td>65.870864</td>\n",
       "    </tr>\n",
       "    <tr>\n",
       "      <th>4</th>\n",
       "      <td>Brazil</td>\n",
       "      <td>55.999180</td>\n",
       "    </tr>\n",
       "  </tbody>\n",
       "</table>\n",
       "</div>"
      ],
      "text/plain": [
       "         Country  Users (Milion)\n",
       "0          China      299.029080\n",
       "1  United States      163.553625\n",
       "2          India       94.917555\n",
       "3          Japan       65.870864\n",
       "4         Brazil       55.999180"
      ]
     },
     "execution_count": 99,
     "metadata": {},
     "output_type": "execute_result"
    }
   ],
   "source": [
    "Answer_5=people_df[( ~ people_df[\"Code\"].isnull())&(people_df[\"Code\"].map(str).apply(len)==3)]\\\n",
    "  .groupby(\"Entity\")[\"Users\"].agg(['mean']).sort_values(['mean'],ascending=False).reset_index().head(5)\n",
    "Answer_5.columns=[\"Country\",\"Users (Milion)\"]\n",
    "Answer_5['Users (Milion)']=Answer_5[\"Users (Milion)\"]/1000000\n",
    "Answer_5"
   ]
  },
  {
   "cell_type": "markdown",
   "metadata": {},
   "source": [
    "🔔 In response to the fifth question, it can be said that, as expected, in terms of the average number of people who had access to the Internet during these years of study, the most populous countries were placed in the upper ranks of this division, But Japan, with its average population, is in the middle of this table, which indicates that the people of this country have high access to the Internet."
   ]
  },
  {
   "cell_type": "markdown",
   "metadata": {},
   "source": [
    "<h2>Sixth Question:</h2>"
   ]
  },
  {
   "cell_type": "markdown",
   "metadata": {},
   "source": [
    "6. What is the correlation between internet usage (population share) and broadband subscriptions for 2019?"
   ]
  },
  {
   "cell_type": "code",
   "execution_count": 100,
   "metadata": {},
   "outputs": [
    {
     "data": {
      "text/plain": [
       "0.3072985526052843"
      ]
     },
     "execution_count": 100,
     "metadata": {},
     "output_type": "execute_result"
    }
   ],
   "source": [
    "Answer_6=pd.merge(internet_df[internet_df['Year']==2019],broadband_df[broadband_df[\"Year\"]==2019],on='Code')\\\n",
    "        [[\"Entity_x\",'Internet_Usage','Broadband_Subscriptions']]\n",
    "Answer_6=Answer_6.rename(columns = {'Entity_x':'Countries'})\n",
    "correlation=pearsonr(Answer_6[\"Internet_Usage\"],Answer_6[\"Broadband_Subscriptions\"])\n",
    "correlation[0]\n",
    "# Answer_6"
   ]
  },
  {
   "cell_type": "markdown",
   "metadata": {},
   "source": [
    "🔔 Contrary to expectation, the correlation number is a number far from 1 and much closer to zero, which shows that maybe internet users do not want to buy internet subscriptions and tend to use other methods of accessing the internet such as mobile internet or shared internet such as universities or libraries and or free services such as restaurants and coffee shops. "
   ]
  },
  {
   "cell_type": "markdown",
   "metadata": {},
   "source": [
    "<h1>Conclusion:</h1>"
   ]
  },
  {
   "cell_type": "markdown",
   "metadata": {},
   "source": [
    "As expected, the level of the Internet access is also higher in countries with a high welfare level than other countries, and this difference becomes very significant in the regional analysis, as it is several times higher in the top countries of each region compared to other countries.\n",
    "But the level of Internet access has grown everywhere in consecutive years regardless of the geographical region and as expected, most of the populated countries have the highest number of Internet users. Over the years, the way to connect to the Internet has also changed, and instead of buying an Internet subscription, workers have started using other methods of connection, such as mobile or shared Internet.\n"
   ]
  }
 ],
 "metadata": {
  "kernelspec": {
   "display_name": "Python 3",
   "language": "python",
   "name": "python3"
  },
  "language_info": {
   "codemirror_mode": {
    "name": "ipython",
    "version": 3
   },
   "file_extension": ".py",
   "mimetype": "text/x-python",
   "name": "python",
   "nbconvert_exporter": "python",
   "pygments_lexer": "ipython3",
   "version": "3.6.8"
  }
 },
 "nbformat": 4,
 "nbformat_minor": 2
}
